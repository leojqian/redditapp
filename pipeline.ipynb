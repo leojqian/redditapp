{
 "cells": [
  {
   "cell_type": "code",
   "execution_count": 3,
   "metadata": {},
   "outputs": [],
   "source": [
    "import praw\n",
    "from gtts import gTTS\n"
   ]
  },
  {
   "cell_type": "code",
   "execution_count": 4,
   "metadata": {},
   "outputs": [],
   "source": [
    "reddit = praw.Reddit(\n",
    "    client_id=\"Yl764s-6k88VD35HH_0Blg\",\n",
    "    client_secret=\"ERcLaAGDDypF0OQolfKcF9_aPlS0iA\",\n",
    "    user_agent=\"test by u/Silly_Inspection5308\"\n",
    ")"
   ]
  },
  {
   "cell_type": "code",
   "execution_count": null,
   "metadata": {},
   "outputs": [],
   "source": [
    "submission = reddit.submission(url=\"https://www.reddit.com/r/AskReddit/comments/xxxxx/story_title\")\n",
    "submission_text = submission.selftext\n",
    "submission_title = submission.title"
   ]
  },
  {
   "cell_type": "code",
   "execution_count": null,
   "metadata": {},
   "outputs": [],
   "source": [
    "tts = gTTS(text=submission_text, lang='en')\n",
    "tts.save(\"story_audio.mp3\")"
   ]
  },
  {
   "cell_type": "code",
   "execution_count": null,
   "metadata": {},
   "outputs": [],
   "source": [
    "import moviepy.editor as mp\n",
    "\n",
    "background = mp.VideoFileClip(\"minecraft_clip.mp4\").subclip(0, 60)"
   ]
  },
  {
   "cell_type": "code",
   "execution_count": null,
   "metadata": {},
   "outputs": [],
   "source": [
    "story_audio = mp.AudioFileClip(\"story_audio.mp3\")\n",
    "final_video = background.set_audio(story_audio)"
   ]
  },
  {
   "cell_type": "code",
   "execution_count": null,
   "metadata": {},
   "outputs": [],
   "source": [
    "from moviepy.video.tools.subtitles import SubtitlesClip\n",
    "from moviepy.video.tools.drawing import TextClip\n",
    "\n",
    "# Example dummy subtitles (you’ll need to actually time them)\n",
    "subtitles = [((0, 4), \"This is the first sentence.\"),\n",
    "             ((4, 8), \"Then something happened.\"),\n",
    "             ((8, 12), \"And it got even crazier.\")]\n",
    "\n",
    "generator = lambda txt: mp.TextClip(txt, font='Arial', fontsize=24, color='white')\n",
    "subclip = SubtitlesClip(subtitles, generator)\n",
    "\n",
    "final = mp.CompositeVideoClip([final_video, subclip])\n",
    "final.write_videofile(\"final_tiktok.mp4\", fps=24)"
   ]
  }
 ],
 "metadata": {
  "kernelspec": {
   "display_name": ".venv",
   "language": "python",
   "name": "python3"
  },
  "language_info": {
   "codemirror_mode": {
    "name": "ipython",
    "version": 3
   },
   "file_extension": ".py",
   "mimetype": "text/x-python",
   "name": "python",
   "nbconvert_exporter": "python",
   "pygments_lexer": "ipython3",
   "version": "3.13.2"
  }
 },
 "nbformat": 4,
 "nbformat_minor": 2
}
